{
 "cells": [
  {
   "cell_type": "markdown",
   "id": "abroad-blues",
   "metadata": {},
   "source": [
    "# Reserved Words - Ayrılmış Kelimeler / Anahtar Kelimeler"
   ]
  },
  {
   "cell_type": "code",
   "execution_count": 1,
   "id": "painted-regard",
   "metadata": {},
   "outputs": [],
   "source": [
    "import keyword"
   ]
  },
  {
   "cell_type": "code",
   "execution_count": 3,
   "id": "electoral-turning",
   "metadata": {},
   "outputs": [
    {
     "data": {
      "text/plain": [
       "['False',\n",
       " 'None',\n",
       " 'True',\n",
       " 'and',\n",
       " 'as',\n",
       " 'assert',\n",
       " 'async',\n",
       " 'await',\n",
       " 'break',\n",
       " 'class',\n",
       " 'continue',\n",
       " 'def',\n",
       " 'del',\n",
       " 'elif',\n",
       " 'else',\n",
       " 'except',\n",
       " 'finally',\n",
       " 'for',\n",
       " 'from',\n",
       " 'global',\n",
       " 'if',\n",
       " 'import',\n",
       " 'in',\n",
       " 'is',\n",
       " 'lambda',\n",
       " 'nonlocal',\n",
       " 'not',\n",
       " 'or',\n",
       " 'pass',\n",
       " 'raise',\n",
       " 'return',\n",
       " 'try',\n",
       " 'while',\n",
       " 'with',\n",
       " 'yield']"
      ]
     },
     "execution_count": 3,
     "metadata": {},
     "output_type": "execute_result"
    }
   ],
   "source": [
    "keyword.kwlist"
   ]
  },
  {
   "cell_type": "markdown",
   "id": "august-bumper",
   "metadata": {},
   "source": [
    "# Sentences or Lines – Cümleler ya da Satırlar"
   ]
  },
  {
   "cell_type": "code",
   "execution_count": 4,
   "id": "falling-water",
   "metadata": {},
   "outputs": [],
   "source": [
    "x = 5 "
   ]
  },
  {
   "cell_type": "code",
   "execution_count": 5,
   "id": "major-failing",
   "metadata": {},
   "outputs": [],
   "source": [
    "x = x + 5"
   ]
  },
  {
   "cell_type": "code",
   "execution_count": 6,
   "id": "silver-gauge",
   "metadata": {},
   "outputs": [
    {
     "name": "stdout",
     "output_type": "stream",
     "text": [
      "10\n"
     ]
    }
   ],
   "source": [
    "print(x)"
   ]
  },
  {
   "cell_type": "markdown",
   "id": "matched-happening",
   "metadata": {},
   "source": [
    "# Python Scrpits - Syntax Error"
   ]
  },
  {
   "cell_type": "code",
   "execution_count": 8,
   "id": "copyrighted-upgrade",
   "metadata": {},
   "outputs": [
    {
     "ename": "SyntaxError",
     "evalue": "can't assign to literal (<ipython-input-8-9dce8774f3b9>, line 1)",
     "output_type": "error",
     "traceback": [
      "\u001b[1;36m  File \u001b[1;32m\"<ipython-input-8-9dce8774f3b9>\"\u001b[1;36m, line \u001b[1;32m1\u001b[0m\n\u001b[1;33m    5 = 6\u001b[0m\n\u001b[1;37m         ^\u001b[0m\n\u001b[1;31mSyntaxError\u001b[0m\u001b[1;31m:\u001b[0m can't assign to literal\n"
     ]
    }
   ],
   "source": [
    "# iki constant'ın matematiksel operatör ile birbirine eşitlenmesinde syntax error verdi.\n",
    "5 = 6"
   ]
  },
  {
   "cell_type": "markdown",
   "id": "plain-visitor",
   "metadata": {},
   "source": [
    "# Program Steps - Programlama Adımları "
   ]
  },
  {
   "cell_type": "markdown",
   "id": "removed-shell",
   "metadata": {},
   "source": [
    "## Sequential Steps - Sıralı Adımlar "
   ]
  },
  {
   "cell_type": "code",
   "execution_count": 10,
   "id": "residential-acrobat",
   "metadata": {},
   "outputs": [],
   "source": [
    "x = 5 "
   ]
  },
  {
   "cell_type": "code",
   "execution_count": 11,
   "id": "portuguese-quebec",
   "metadata": {},
   "outputs": [
    {
     "name": "stdout",
     "output_type": "stream",
     "text": [
      "5\n"
     ]
    }
   ],
   "source": [
    "print(x)"
   ]
  },
  {
   "cell_type": "code",
   "execution_count": 12,
   "id": "numerical-measure",
   "metadata": {},
   "outputs": [],
   "source": [
    "x = x + 5"
   ]
  },
  {
   "cell_type": "code",
   "execution_count": 13,
   "id": "thrown-knife",
   "metadata": {},
   "outputs": [
    {
     "name": "stdout",
     "output_type": "stream",
     "text": [
      "10\n"
     ]
    }
   ],
   "source": [
    "print(x)"
   ]
  },
  {
   "cell_type": "markdown",
   "id": "elder-tokyo",
   "metadata": {},
   "source": [
    "## Conditional Steps – Koşullu Adımlar"
   ]
  },
  {
   "cell_type": "code",
   "execution_count": 16,
   "id": "universal-patent",
   "metadata": {},
   "outputs": [
    {
     "name": "stdout",
     "output_type": "stream",
     "text": [
      "daha kucuk\n",
      "bitti\n"
     ]
    }
   ],
   "source": [
    "x = 10 \n",
    "if x < 20: \n",
    "    print(\"daha kucuk\")\n",
    "if x > 30:\n",
    "    print(\"daha buyuk\") \n",
    "    \n",
    "print(\"bitti\")\n"
   ]
  },
  {
   "cell_type": "markdown",
   "id": "random-height",
   "metadata": {},
   "source": [
    "## Repeated Steps - Tekrarlanan Adımlar "
   ]
  },
  {
   "cell_type": "code",
   "execution_count": 17,
   "id": "objective-bridge",
   "metadata": {},
   "outputs": [
    {
     "name": "stdout",
     "output_type": "stream",
     "text": [
      "10\n",
      "9\n",
      "8\n",
      "7\n",
      "6\n",
      "5\n",
      "4\n",
      "3\n",
      "2\n",
      "1\n",
      "bitti\n"
     ]
    }
   ],
   "source": [
    "x = 10 \n",
    "while x > 0: \n",
    "    print(x)\n",
    "    x = x - 1\n",
    "    \n",
    "print(\"bitti\")    "
   ]
  },
  {
   "cell_type": "code",
   "execution_count": 18,
   "id": "informational-upper",
   "metadata": {},
   "outputs": [
    {
     "name": "stdout",
     "output_type": "stream",
     "text": [
      " Volume in drive C has no label.\n",
      " Volume Serial Number is 302D-B73D\n",
      "\n",
      " Directory of C:\\Users\\hp\\Desktop\\Education\\HUTEN-ML\\Python\n",
      "\n",
      "25.01.2022  23:55    <DIR>          .\n",
      "25.01.2022  23:55    <DIR>          ..\n",
      "25.01.2022  22:20    <DIR>          .ipynb_checkpoints\n",
      "25.01.2022  23:55             5.980 Introduction to Python.ipynb\n",
      "               1 File(s)          5.980 bytes\n",
      "               3 Dir(s)  22.237.130.752 bytes free\n"
     ]
    }
   ],
   "source": [
    "ls"
   ]
  },
  {
   "cell_type": "code",
   "execution_count": null,
   "id": "opponent-limitation",
   "metadata": {},
   "outputs": [],
   "source": []
  }
 ],
 "metadata": {
  "kernelspec": {
   "display_name": "Python 3",
   "language": "python",
   "name": "python3"
  },
  "language_info": {
   "codemirror_mode": {
    "name": "ipython",
    "version": 3
   },
   "file_extension": ".py",
   "mimetype": "text/x-python",
   "name": "python",
   "nbconvert_exporter": "python",
   "pygments_lexer": "ipython3",
   "version": "3.7.9"
  }
 },
 "nbformat": 4,
 "nbformat_minor": 5
}
